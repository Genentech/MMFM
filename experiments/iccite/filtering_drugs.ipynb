{
 "cells": [
  {
   "cell_type": "code",
   "execution_count": null,
   "id": "d972ad5d-bba9-4fee-8823-89a3afade6ef",
   "metadata": {
    "execution": {
     "iopub.execute_input": "2024-08-18T03:50:45.036212Z",
     "iopub.status.busy": "2024-08-18T03:50:45.035967Z",
     "iopub.status.idle": "2024-08-18T03:50:56.745918Z",
     "shell.execute_reply": "2024-08-18T03:50:56.745247Z",
     "shell.execute_reply.started": "2024-08-18T03:50:45.036190Z"
    },
    "tags": []
   },
   "outputs": [],
   "source": [
    "import scanpy as sc\n",
    "import mudata\n",
    "import numpy as np\n",
    "import pandas as pd\n",
    "import matplotlib.pyplot as plt\n",
    "from tqdm import tqdm\n",
    "from dcor import energy_distance\n",
    "from scvi.model import SCVI"
   ]
  },
  {
   "cell_type": "markdown",
   "id": "1797263c-bc24-4942-b292-d67e44dc3b83",
   "metadata": {},
   "source": [
    "## Open data and learn about fields"
   ]
  },
  {
   "cell_type": "code",
   "execution_count": null,
   "id": "a69b15a0-39f8-4f5f-b8d9-3fe9107e15df",
   "metadata": {
    "execution": {
     "iopub.execute_input": "2024-08-18T03:50:58.734165Z",
     "iopub.status.busy": "2024-08-18T03:50:58.733812Z",
     "iopub.status.idle": "2024-08-18T03:51:32.568818Z",
     "shell.execute_reply": "2024-08-18T03:51:32.568090Z",
     "shell.execute_reply.started": "2024-08-18T03:50:58.734140Z"
    },
    "tags": [],
    "vscode": {
     "languageId": "plaintext"
    }
   },
   "outputs": [],
   "source": [
    "adata = sc.read_h5ad(\"rna_donors_for_totalVI_temp.h5ad\")"
   ]
  },
  {
   "cell_type": "code",
   "execution_count": null,
   "id": "a9cbe4f5-0b8b-4266-9a74-04da63a37864",
   "metadata": {
    "execution": {
     "iopub.execute_input": "2024-08-18T03:51:32.570395Z",
     "iopub.status.busy": "2024-08-18T03:51:32.570124Z",
     "iopub.status.idle": "2024-08-18T03:51:32.577145Z",
     "shell.execute_reply": "2024-08-18T03:51:32.576513Z",
     "shell.execute_reply.started": "2024-08-18T03:51:32.570364Z"
    },
    "tags": []
   },
   "outputs": [],
   "source": [
    "adata"
   ]
  },
  {
   "cell_type": "code",
   "execution_count": null,
   "id": "a4d9b3a4-572d-4a75-b51c-4c83b3f3a58e",
   "metadata": {
    "execution": {
     "iopub.execute_input": "2024-08-18T03:51:32.578617Z",
     "iopub.status.busy": "2024-08-18T03:51:32.578138Z",
     "iopub.status.idle": "2024-08-18T03:51:32.789044Z",
     "shell.execute_reply": "2024-08-18T03:51:32.788288Z",
     "shell.execute_reply.started": "2024-08-18T03:51:32.578594Z"
    },
    "tags": []
   },
   "outputs": [],
   "source": [
    "# sketch out all the info needed as cell info\n",
    "# assignment to library (watch out for batch effects)\n",
    "adata.obs[\"library\"]\n",
    "# assignment to timepoint\n",
    "adata.obs[\"timepoint\"]\n",
    "# assignment to perturbation\n",
    "adata.obs[\"treatment\"]\n",
    "# assignment to donor (watch out for batch effects)\n",
    "adata.obs[\"donor\"]\n",
    "# assignment to drug pathway (a summary of the target of the drug)\n",
    "adata.obs[\"pathway\"]\n",
    "# assignment to drug target\n",
    "adata.obs[\"target\"]\n",
    "# end"
   ]
  },
  {
   "cell_type": "markdown",
   "id": "23d5705c-c0e0-4e74-b5bd-84b2e51c1af8",
   "metadata": {},
   "source": [
    "## train scVI and greedily filter drugs based on rna effects"
   ]
  },
  {
   "cell_type": "code",
   "execution_count": null,
   "id": "0305bff7-ff03-4807-b84c-f5cbf8829434",
   "metadata": {
    "execution": {
     "iopub.execute_input": "2024-08-18T03:51:32.791150Z",
     "iopub.status.busy": "2024-08-18T03:51:32.790661Z",
     "iopub.status.idle": "2024-08-18T03:51:32.878557Z",
     "shell.execute_reply": "2024-08-18T03:51:32.877789Z",
     "shell.execute_reply.started": "2024-08-18T03:51:32.791126Z"
    },
    "tags": []
   },
   "outputs": [],
   "source": [
    "adata.obs[\"batch\"] = adata.obs[\"donor\"].astype(str) + adata.obs[\"library\"].astype(str)"
   ]
  },
  {
   "cell_type": "code",
   "execution_count": null,
   "id": "fdfed7ad-b3e2-45b7-a4a7-b06553e91ea9",
   "metadata": {
    "execution": {
     "iopub.execute_input": "2024-08-18T03:51:32.879662Z",
     "iopub.status.busy": "2024-08-18T03:51:32.879422Z",
     "iopub.status.idle": "2024-08-18T03:51:41.448959Z",
     "shell.execute_reply": "2024-08-18T03:51:41.447943Z",
     "shell.execute_reply.started": "2024-08-18T03:51:32.879643Z"
    },
    "tags": []
   },
   "outputs": [],
   "source": [
    "train = False\n",
    "save_dir = \"model_saved\"\n",
    "if train:\n",
    "    SCVI.setup_anndata(adata, layer=\"counts\", batch_key=\"batch\")\n",
    "    model = SCVI(adata, n_hidden=256, n_latent=50, n_layers=2, gene_likelihood=\"nb\")\n",
    "    model.train(use_gpu=True, early_stopping=True)\n",
    "    model.save(save_dir, overwrite=True)\n",
    "else:\n",
    "    model = SCVI.load(save_dir, adata, use_gpu=True)"
   ]
  },
  {
   "cell_type": "code",
   "execution_count": null,
   "id": "becd6846-3335-477f-9f14-5cfa8ccd9086",
   "metadata": {
    "execution": {
     "iopub.execute_input": "2024-08-18T03:51:50.210730Z",
     "iopub.status.busy": "2024-08-18T03:51:50.210043Z",
     "iopub.status.idle": "2024-08-18T03:52:13.060073Z",
     "shell.execute_reply": "2024-08-18T03:52:13.059256Z",
     "shell.execute_reply.started": "2024-08-18T03:51:50.210702Z"
    },
    "tags": []
   },
   "outputs": [],
   "source": [
    "# get latent space\n",
    "adata.obsm[\"X_scVI\"] = model.get_latent_representation()"
   ]
  },
  {
   "cell_type": "code",
   "execution_count": null,
   "id": "5efc2236-5d96-4eba-b712-6dd048d5f63f",
   "metadata": {
    "execution": {
     "iopub.execute_input": "2024-08-18T03:52:15.483012Z",
     "iopub.status.busy": "2024-08-18T03:52:15.482694Z",
     "iopub.status.idle": "2024-08-18T03:52:55.561976Z",
     "shell.execute_reply": "2024-08-18T03:52:55.561282Z",
     "shell.execute_reply.started": "2024-08-18T03:52:15.482991Z"
    },
    "tags": []
   },
   "outputs": [],
   "source": [
    "# effect plot\n",
    "# for each chemical, calculate the energy distance on foreground and on latent\n",
    "total_effect = {}\n",
    "for treatment in tqdm(adata.obs[\"treatment\"].unique()):\n",
    "        index_control = np.where(adata.obs[\"compound\"] == \"Vehicle\")[0][:1000]\n",
    "        index_condition = np.where(adata.obs[\"treatment\"] == treatment)[0][:1000]\n",
    "        if len(np.where(adata.obs[\"treatment\"] == treatment)[0]) > 200:\n",
    "            t_effect = energy_distance(\n",
    "                adata.obsm[\"X_scVI\"][index_control], adata.obsm[\"X_scVI\"][index_condition]\n",
    "            )\n",
    "            total_effect[treatment] = t_effect"
   ]
  },
  {
   "cell_type": "code",
   "execution_count": null,
   "id": "b2706adf-ae73-401e-b793-b36ac614f831",
   "metadata": {
    "execution": {
     "iopub.execute_input": "2024-08-18T03:52:55.563524Z",
     "iopub.status.busy": "2024-08-18T03:52:55.563213Z",
     "iopub.status.idle": "2024-08-18T03:52:55.571710Z",
     "shell.execute_reply": "2024-08-18T03:52:55.571134Z",
     "shell.execute_reply.started": "2024-08-18T03:52:55.563501Z"
    },
    "tags": []
   },
   "outputs": [],
   "source": [
    "series = pd.Series(total_effect).sort_values()[::-1]\n",
    "series[series > 1]"
   ]
  },
  {
   "cell_type": "code",
   "execution_count": null,
   "id": "0a1018ad-adf3-424c-8946-ca5a94aff214",
   "metadata": {
    "execution": {
     "iopub.execute_input": "2024-08-18T03:52:55.572884Z",
     "iopub.status.busy": "2024-08-18T03:52:55.572634Z",
     "iopub.status.idle": "2024-08-18T03:52:55.576673Z",
     "shell.execute_reply": "2024-08-18T03:52:55.576102Z",
     "shell.execute_reply.started": "2024-08-18T03:52:55.572863Z"
    },
    "tags": []
   },
   "outputs": [],
   "source": [
    "large_effects = list(series[series > 1].index)"
   ]
  },
  {
   "cell_type": "code",
   "execution_count": null,
   "id": "06d013f9-53c9-4435-9cbf-9afaa7432f64",
   "metadata": {
    "execution": {
     "iopub.execute_input": "2024-08-18T03:52:55.578683Z",
     "iopub.status.busy": "2024-08-18T03:52:55.578221Z",
     "iopub.status.idle": "2024-08-18T03:52:55.581632Z",
     "shell.execute_reply": "2024-08-18T03:52:55.580995Z",
     "shell.execute_reply.started": "2024-08-18T03:52:55.578663Z"
    },
    "tags": []
   },
   "outputs": [],
   "source": [
    "to_keep = large_effects + [\"Vehicle_100nM\", \"Vehicle_1uM\", \"Vehicle_10uM\", \"No stim_100nM\", \"No stim_1uM\", \"No stim_10uM\"]"
   ]
  },
  {
   "cell_type": "code",
   "execution_count": null,
   "id": "5612f71d-97d4-4040-bfc1-25d5a77a3e42",
   "metadata": {
    "execution": {
     "iopub.execute_input": "2024-08-18T03:52:55.582691Z",
     "iopub.status.busy": "2024-08-18T03:52:55.582441Z",
     "iopub.status.idle": "2024-08-18T03:52:59.116101Z",
     "shell.execute_reply": "2024-08-18T03:52:59.115052Z",
     "shell.execute_reply.started": "2024-08-18T03:52:55.582673Z"
    },
    "tags": []
   },
   "outputs": [],
   "source": [
    "adata_filtered = adata[adata.obs[\"treatment\"].isin(to_keep)].copy()"
   ]
  },
  {
   "cell_type": "code",
   "execution_count": null,
   "id": "4c6454dc-fd9e-4a6b-a178-6a84f4fedbef",
   "metadata": {
    "execution": {
     "iopub.execute_input": "2024-08-18T03:52:59.117857Z",
     "iopub.status.busy": "2024-08-18T03:52:59.117025Z",
     "iopub.status.idle": "2024-08-18T03:52:59.121906Z",
     "shell.execute_reply": "2024-08-18T03:52:59.121326Z",
     "shell.execute_reply.started": "2024-08-18T03:52:59.117825Z"
    },
    "tags": []
   },
   "outputs": [],
   "source": [
    "adata_filtered"
   ]
  },
  {
   "cell_type": "markdown",
   "id": "010e4c61-00fc-41ae-8002-e458aa85f2f6",
   "metadata": {},
   "source": [
    "## train scVI again and visualize data with UMAP"
   ]
  },
  {
   "cell_type": "code",
   "execution_count": null,
   "id": "669ddcf2-e79d-4cab-a85c-112009487b5a",
   "metadata": {
    "execution": {
     "iopub.execute_input": "2024-08-18T03:53:02.030309Z",
     "iopub.status.busy": "2024-08-18T03:53:02.029647Z",
     "iopub.status.idle": "2024-08-18T03:53:12.449086Z",
     "shell.execute_reply": "2024-08-18T03:53:12.448230Z",
     "shell.execute_reply.started": "2024-08-18T03:53:02.030278Z"
    },
    "tags": []
   },
   "outputs": [],
   "source": [
    "sc.pp.highly_variable_genes(adata_filtered, layer=\"counts\", n_top_genes=6000, batch_key=\"library\", flavor=\"seurat_v3\", subset=True)"
   ]
  },
  {
   "cell_type": "code",
   "execution_count": null,
   "id": "6619d972-e464-4cac-9427-0dce52d56969",
   "metadata": {
    "execution": {
     "iopub.execute_input": "2024-08-18T03:53:13.851691Z",
     "iopub.status.busy": "2024-08-18T03:53:13.851354Z",
     "iopub.status.idle": "2024-08-18T03:53:14.078587Z",
     "shell.execute_reply": "2024-08-18T03:53:14.077816Z",
     "shell.execute_reply.started": "2024-08-18T03:53:13.851669Z"
    },
    "tags": []
   },
   "outputs": [],
   "source": [
    "train = False\n",
    "save_dir = \"model_filtered_saved\"\n",
    "if train:\n",
    "    SCVI.setup_anndata(adata_filtered, layer=\"counts\", batch_key=\"batch\")\n",
    "    model = SCVI(adata_filtered, n_hidden=128, n_latent=30, n_layers=2, gene_likelihood=\"nb\")\n",
    "    model.train(max_epochs=100, use_gpu=True, early_stopping=True)\n",
    "    model.history[\"elbo_validation\"].plot()\n",
    "    model.save(save_dir, overwrite=True)\n",
    "else:\n",
    "    model = SCVI.load(save_dir, adata_filtered, use_gpu=True)"
   ]
  },
  {
   "cell_type": "code",
   "execution_count": null,
   "id": "8046374e-9fb1-4d30-8f63-bfcc534c60dc",
   "metadata": {
    "execution": {
     "iopub.execute_input": "2024-08-18T03:53:15.546741Z",
     "iopub.status.busy": "2024-08-18T03:53:15.545947Z",
     "iopub.status.idle": "2024-08-18T03:54:17.159316Z",
     "shell.execute_reply": "2024-08-18T03:54:17.158499Z",
     "shell.execute_reply.started": "2024-08-18T03:53:15.546710Z"
    },
    "tags": []
   },
   "outputs": [],
   "source": [
    "adata_filtered.obsm[\"X_filt_scVI\"] = model.get_latent_representation()\n",
    "# umap\n",
    "sc.pp.neighbors(adata_filtered, use_rep=\"X_filt_scVI\")\n",
    "sc.tl.umap(adata_filtered)\n",
    "adata_filtered.obsm[\"X_filt_scVI_umap\"] = adata_filtered.obsm[\"X_umap\"].copy()"
   ]
  },
  {
   "cell_type": "code",
   "execution_count": null,
   "id": "32121d34-dadf-448b-a31a-c56e6efd76b0",
   "metadata": {
    "execution": {
     "iopub.execute_input": "2024-08-18T03:54:17.160900Z",
     "iopub.status.busy": "2024-08-18T03:54:17.160652Z",
     "iopub.status.idle": "2024-08-18T03:54:21.751797Z",
     "shell.execute_reply": "2024-08-18T03:54:21.751041Z",
     "shell.execute_reply.started": "2024-08-18T03:54:17.160880Z"
    },
    "tags": []
   },
   "outputs": [],
   "source": [
    "sc.pl.embedding(adata_filtered, basis=\"X_filt_scVI_umap\", color=['library', 'Plate#', \"score_s\", \"score_g2m\", \"donor\", \"hto_label\"], ncols=2)"
   ]
  },
  {
   "cell_type": "code",
   "execution_count": null,
   "id": "611a1cd0-c650-4cf2-8a17-036b7b6e559b",
   "metadata": {
    "execution": {
     "iopub.execute_input": "2024-08-18T03:54:21.752972Z",
     "iopub.status.busy": "2024-08-18T03:54:21.752735Z",
     "iopub.status.idle": "2024-08-18T03:54:23.570854Z",
     "shell.execute_reply": "2024-08-18T03:54:23.569833Z",
     "shell.execute_reply.started": "2024-08-18T03:54:21.752953Z"
    },
    "tags": []
   },
   "outputs": [],
   "source": [
    "sc.pl.embedding(adata_filtered, basis=\"X_filt_scVI_umap\", color=['timepoint', \"pathway\", \"target\"], ncols=2)"
   ]
  },
  {
   "cell_type": "markdown",
   "id": "cbcfe827-24ff-46bc-ba34-bad2e43ca3d0",
   "metadata": {},
   "source": [
    "## save the filtered dataset"
   ]
  },
  {
   "cell_type": "code",
   "execution_count": null,
   "id": "9084888b-c6fd-40b9-8e71-1f4ec2864345",
   "metadata": {
    "execution": {
     "iopub.execute_input": "2024-08-18T04:01:56.800617Z",
     "iopub.status.busy": "2024-08-18T04:01:56.799982Z",
     "iopub.status.idle": "2024-08-18T04:01:56.805362Z",
     "shell.execute_reply": "2024-08-18T04:01:56.804614Z",
     "shell.execute_reply.started": "2024-08-18T04:01:56.800590Z"
    },
    "tags": []
   },
   "outputs": [],
   "source": [
    "adata_filtered"
   ]
  },
  {
   "cell_type": "code",
   "execution_count": null,
   "id": "76f01dcb-9329-42b6-aec2-19f97f592787",
   "metadata": {
    "execution": {
     "iopub.execute_input": "2024-08-18T04:01:56.252311Z",
     "iopub.status.busy": "2024-08-18T04:01:56.251583Z",
     "iopub.status.idle": "2024-08-18T04:01:56.255837Z",
     "shell.execute_reply": "2024-08-18T04:01:56.255110Z",
     "shell.execute_reply.started": "2024-08-18T04:01:56.252276Z"
    },
    "tags": []
   },
   "outputs": [],
   "source": [
    "adata_filtered.X = adata_filtered.layers[\"counts\"].copy()\n",
    "del adata_filtered.layers"
   ]
  },
  {
   "cell_type": "code",
   "execution_count": null,
   "id": "a3164908-2aea-425e-be21-b766cc70a536",
   "metadata": {
    "execution": {
     "iopub.execute_input": "2024-08-18T03:59:54.678876Z",
     "iopub.status.busy": "2024-08-18T03:59:54.678182Z",
     "iopub.status.idle": "2024-08-18T03:59:54.682853Z",
     "shell.execute_reply": "2024-08-18T03:59:54.681851Z",
     "shell.execute_reply.started": "2024-08-18T03:59:54.678847Z"
    },
    "tags": []
   },
   "outputs": [],
   "source": [
    "del adata_filtered.uns\n",
    "del adata_filtered.obsp\n",
    "del adata_filtered.raw"
   ]
  },
  {
   "cell_type": "code",
   "execution_count": null,
   "id": "1c713463-86bc-4a20-a52b-e251a25d0144",
   "metadata": {
    "execution": {
     "iopub.execute_input": "2024-08-18T03:57:25.102018Z",
     "iopub.status.busy": "2024-08-18T03:57:25.100854Z",
     "iopub.status.idle": "2024-08-18T03:57:25.118936Z",
     "shell.execute_reply": "2024-08-18T03:57:25.118019Z",
     "shell.execute_reply.started": "2024-08-18T03:57:25.101980Z"
    },
    "tags": []
   },
   "outputs": [],
   "source": [
    "del adata_filtered.obsm[\"X_scVI\"]\n",
    "del adata_filtered.obsm[\"adt\"]\n",
    "del adata_filtered.obsm[\"adt_norm\"]\n",
    "del adata_filtered.obsm[\"adt_select\"]\n",
    "del adata_filtered.obsm[\"proteins\"]\n",
    "del adata_filtered.obsm[\"proteins_norm\"]\n",
    "del adata_filtered.obsm[\"tsb\"]\n",
    "del adata_filtered.obsm[\"tsb_norm\"]\n",
    "del adata_filtered.obsm[\"tsb_select\"]"
   ]
  },
  {
   "cell_type": "code",
   "execution_count": null,
   "id": "cb9df5ff-a5b7-4eff-9d9a-c87190339282",
   "metadata": {
    "execution": {
     "iopub.execute_input": "2024-08-18T04:01:58.465972Z",
     "iopub.status.busy": "2024-08-18T04:01:58.465343Z",
     "iopub.status.idle": "2024-08-18T04:01:59.285558Z",
     "shell.execute_reply": "2024-08-18T04:01:59.284649Z",
     "shell.execute_reply.started": "2024-08-18T04:01:58.465945Z"
    },
    "tags": []
   },
   "outputs": [],
   "source": [
    "adata_filtered.write_h5ad(\"icCITE-plex_filtered_top_drugs.h5ad\")"
   ]
  }
 ],
 "metadata": {
  "kernelspec": {
   "display_name": "Python 3",
   "language": "python",
   "name": "python3"
  },
  "language_info": {
   "codemirror_mode": {
    "name": "ipython",
    "version": 3
   },
   "file_extension": ".py",
   "mimetype": "text/x-python",
   "name": "python",
   "nbconvert_exporter": "python",
   "pygments_lexer": "ipython3",
   "version": "3.12.4"
  }
 },
 "nbformat": 4,
 "nbformat_minor": 5
}
